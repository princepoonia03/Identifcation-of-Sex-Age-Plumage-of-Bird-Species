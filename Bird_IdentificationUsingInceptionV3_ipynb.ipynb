{
  "nbformat": 4,
  "nbformat_minor": 0,
  "metadata": {
    "colab": {
      "provenance": []
    },
    "kernelspec": {
      "name": "python3",
      "display_name": "Python 3"
    },
    "language_info": {
      "name": "python"
    }
  },
  "cells": [
    {
      "cell_type": "code",
      "execution_count": null,
      "metadata": {
        "colab": {
          "base_uri": "https://localhost:8080/"
        },
        "id": "IdWyCdxCCcto",
        "outputId": "b810c10e-78af-445a-e0a5-2fc905569df6"
      },
      "outputs": [
        {
          "output_type": "stream",
          "name": "stdout",
          "text": [
            "Mounted at /content/drive\n"
          ]
        }
      ],
      "source": [
        "from google.colab import drive\n",
        "drive.mount('/content/drive')"
      ]
    },
    {
      "cell_type": "code",
      "source": [
        "import tensorflow as tf\n",
        "\n",
        "from keras import datasets, layers, models\n",
        "import matplotlib.pyplot as plt"
      ],
      "metadata": {
        "id": "n7r5jSC-CiMg"
      },
      "execution_count": null,
      "outputs": []
    },
    {
      "cell_type": "code",
      "source": [
        "from keras.preprocessing.image import ImageDataGenerator\n",
        "\n",
        "# All images will be rescaled by 1./255\n",
        "train_datagen = ImageDataGenerator(\n",
        "        rescale=1./255)\n",
        "\n",
        "validation_datagen = ImageDataGenerator(rescale=1./255)\n",
        "\n",
        "# Flow training images in batches of 128 using train_datagen generator\n",
        "train_data = train_datagen.flow_from_directory(\n",
        "        '/content/drive/MyDrive/SET Project 2/Photos for Data Training/Training',  # This is the source directory for training images\n",
        "        target_size=(224, 224),  # All images will be resized to 150x150\n",
        "        batch_size= 32,\n",
        "        class_mode='categorical')\n",
        "\n",
        "# Flow training images in batches of 128 using train_datagen generator\n",
        "validation_data = validation_datagen.flow_from_directory(\n",
        "        '/content/drive/MyDrive/SET Project 2/Photos for Data Training/Testing',  # This is the source directory for training images\n",
        "        target_size=(224, 224),  # All images will be resized to 150x150\n",
        "        batch_size= 8,\n",
        "        class_mode='categorical')"
      ],
      "metadata": {
        "colab": {
          "base_uri": "https://localhost:8080/"
        },
        "id": "0R9W-gfiCing",
        "outputId": "acd6dfb4-6508-43c1-f3af-8ace814b4bc3"
      },
      "execution_count": null,
      "outputs": [
        {
          "output_type": "stream",
          "name": "stdout",
          "text": [
            "Found 373 images belonging to 12 classes.\n",
            "Found 26 images belonging to 12 classes.\n"
          ]
        }
      ]
    },
    {
      "cell_type": "code",
      "source": [
        "callback = tf.keras.callbacks.EarlyStopping(\n",
        "    monitor='val_loss',\n",
        "    min_delta=0,\n",
        "    patience=3,\n",
        "    verbose=0,\n",
        "    mode='auto',\n",
        "    baseline=None,\n",
        "    restore_best_weights=False,\n",
        "    start_from_epoch=0)"
      ],
      "metadata": {
        "id": "ayco0cL4Ci7V"
      },
      "execution_count": null,
      "outputs": []
    },
    {
      "cell_type": "code",
      "source": [
        "# Import the required modules for model creation\n",
        "from keras import layers\n",
        "# from keras+ import preprocessing\n",
        "from keras.models import Sequential\n",
        "\n",
        "# Setup data augmentation\n",
        "data_aug = Sequential([\n",
        "  layers.RandomFlip(\"horizontal\"), # randomly flip images on horizontal edge\n",
        "  layers.RandomRotation(0.2), # randomly rotate images by a specific amount\n",
        "  layers.RandomHeight(0.2), # randomly adjust the height of an image by a specific amount\n",
        "  layers.RandomWidth(0.2), # randomly adjust the width of an image by a specific amount\n",
        "  layers.RandomZoom(0.2), # randomly zoom into an image\n",
        "  # preprocessing.Rescaling(1./255) # keep for models like ResNet50V2, remove for EfficientNet\n",
        "], name=\"data_augmentation\")\n"
      ],
      "metadata": {
        "id": "0w42IuYYCjWA"
      },
      "execution_count": null,
      "outputs": []
    },
    {
      "cell_type": "code",
      "source": [
        "import random\n",
        "base_model = tf.keras.applications.inception_v3.InceptionV3(weights = \"imagenet\", include_top=False, input_shape = (224, 224, 3))\n",
        "\n",
        "# Unfreeze all of the layers in the base model\n",
        "base_model.trainable = True\n",
        "\n",
        "# Refreeze every layer except for the last 5\n",
        "for layer in base_model.layers[:-5]:\n",
        "  layer.trainable = False\n",
        "\n",
        "#Adding custom Layers\n",
        "input = tf.keras.layers.Input(shape = (224, 224, 3))\n",
        "x = data_aug(input)\n",
        "x = base_model(x, training = False)\n",
        "x = tf.keras.layers.Dense(1024, activation=\"relu\")(x)\n",
        "x = tf.keras.layers.Dropout(0.2)(x)\n",
        "x = tf.keras.layers.Dense(512, activation=\"relu\")(x)\n",
        "x = tf.keras.layers.Dropout(0.2)(x)\n",
        "x = tf.keras.layers.Dense(256, activation=\"relu\")(x)\n",
        "x = tf.keras.layers.Dropout(0.2)(x)\n",
        "x = tf.keras.layers.GlobalAveragePooling2D()(x)\n",
        "output = tf.keras.layers.Dense(12, activation=\"softmax\")(x)\n",
        "model= tf.keras.Model(inputs = input, outputs = output)"
      ],
      "metadata": {
        "colab": {
          "base_uri": "https://localhost:8080/"
        },
        "id": "thQTeuCgCjpk",
        "outputId": "504f486d-a053-4b78-eb50-3e4d83a9d664"
      },
      "execution_count": null,
      "outputs": [
        {
          "output_type": "stream",
          "name": "stdout",
          "text": [
            "Downloading data from https://storage.googleapis.com/tensorflow/keras-applications/inception_v3/inception_v3_weights_tf_dim_ordering_tf_kernels_notop.h5\n",
            "87910968/87910968 [==============================] - 3s 0us/step\n"
          ]
        }
      ]
    },
    {
      "cell_type": "code",
      "source": [
        "test_generator = validation_datagen.flow_from_directory(\n",
        "        '/content/drive/MyDrive/SET Project 2/Photos for Data Training/Testing',  # This is the source directory for training images\n",
        "        target_size=(224, 224),  # All images will be resized to 150x150\n",
        "        batch_size= 30,\n",
        "        class_mode='categorical')\n",
        "X_test, y_test = test_generator.next()"
      ],
      "metadata": {
        "colab": {
          "base_uri": "https://localhost:8080/"
        },
        "id": "O3TAl88-Cj9C",
        "outputId": "ede8e7a5-2221-40a5-fcf4-6cb07d9a928d"
      },
      "execution_count": null,
      "outputs": [
        {
          "output_type": "stream",
          "name": "stdout",
          "text": [
            "Found 26 images belonging to 12 classes.\n"
          ]
        }
      ]
    },
    {
      "cell_type": "code",
      "source": [
        "model.compile(optimizer=tf.keras.optimizers.Adam(1e-4), loss='categorical_crossentropy', metrics='Accuracy')"
      ],
      "metadata": {
        "id": "VuONq4gSC4FT"
      },
      "execution_count": null,
      "outputs": []
    },
    {
      "cell_type": "code",
      "source": [
        "model_history = model.fit(train_data, epochs = 50, batch_size = 32, validation_data = validation_data, validation_batch_size= 8 )"
      ],
      "metadata": {
        "colab": {
          "base_uri": "https://localhost:8080/"
        },
        "id": "IAQu5jYIC7UO",
        "outputId": "a9edab9f-ea18-4f1d-be26-2bd584cfd5f6"
      },
      "execution_count": null,
      "outputs": [
        {
          "output_type": "stream",
          "name": "stdout",
          "text": [
            "Epoch 1/50\n",
            "12/12 [==============================] - 205s 16s/step - loss: 2.2639 - Accuracy: 0.2306 - val_loss: 2.0675 - val_Accuracy: 0.3077\n",
            "Epoch 2/50\n",
            "12/12 [==============================] - 45s 4s/step - loss: 1.6901 - Accuracy: 0.4450 - val_loss: 1.6266 - val_Accuracy: 0.4231\n",
            "Epoch 3/50\n",
            "12/12 [==============================] - 52s 4s/step - loss: 1.4466 - Accuracy: 0.5710 - val_loss: 1.3665 - val_Accuracy: 0.5769\n",
            "Epoch 4/50\n",
            "12/12 [==============================] - 50s 4s/step - loss: 1.0595 - Accuracy: 0.6863 - val_loss: 1.1485 - val_Accuracy: 0.6154\n",
            "Epoch 5/50\n",
            "12/12 [==============================] - 52s 4s/step - loss: 0.9075 - Accuracy: 0.7131 - val_loss: 1.0380 - val_Accuracy: 0.6154\n",
            "Epoch 6/50\n",
            "12/12 [==============================] - 48s 4s/step - loss: 0.7754 - Accuracy: 0.7507 - val_loss: 0.9920 - val_Accuracy: 0.6538\n",
            "Epoch 7/50\n",
            "12/12 [==============================] - 44s 4s/step - loss: 0.7952 - Accuracy: 0.7105 - val_loss: 0.9480 - val_Accuracy: 0.6538\n",
            "Epoch 8/50\n",
            "12/12 [==============================] - 48s 4s/step - loss: 0.7190 - Accuracy: 0.7453 - val_loss: 1.1325 - val_Accuracy: 0.6538\n",
            "Epoch 9/50\n",
            "12/12 [==============================] - 43s 4s/step - loss: 0.6952 - Accuracy: 0.7426 - val_loss: 0.9355 - val_Accuracy: 0.6154\n",
            "Epoch 10/50\n",
            "12/12 [==============================] - 49s 4s/step - loss: 0.6569 - Accuracy: 0.7775 - val_loss: 0.8770 - val_Accuracy: 0.6538\n",
            "Epoch 11/50\n",
            "12/12 [==============================] - 43s 4s/step - loss: 0.5577 - Accuracy: 0.8177 - val_loss: 0.7579 - val_Accuracy: 0.8462\n",
            "Epoch 12/50\n",
            "12/12 [==============================] - 45s 4s/step - loss: 0.6009 - Accuracy: 0.7909 - val_loss: 0.7374 - val_Accuracy: 0.7692\n",
            "Epoch 13/50\n",
            "12/12 [==============================] - 59s 5s/step - loss: 0.6777 - Accuracy: 0.7802 - val_loss: 0.7485 - val_Accuracy: 0.6923\n",
            "Epoch 14/50\n",
            "12/12 [==============================] - 49s 4s/step - loss: 0.5111 - Accuracy: 0.8150 - val_loss: 0.7737 - val_Accuracy: 0.6923\n",
            "Epoch 15/50\n",
            "12/12 [==============================] - 48s 4s/step - loss: 0.4788 - Accuracy: 0.8311 - val_loss: 0.6024 - val_Accuracy: 0.8846\n",
            "Epoch 16/50\n",
            "12/12 [==============================] - 47s 4s/step - loss: 0.4542 - Accuracy: 0.8391 - val_loss: 0.7516 - val_Accuracy: 0.7308\n",
            "Epoch 17/50\n",
            "12/12 [==============================] - 48s 4s/step - loss: 0.4297 - Accuracy: 0.8552 - val_loss: 0.7127 - val_Accuracy: 0.6923\n",
            "Epoch 18/50\n",
            "12/12 [==============================] - 49s 4s/step - loss: 0.5076 - Accuracy: 0.8365 - val_loss: 0.5590 - val_Accuracy: 0.7692\n",
            "Epoch 19/50\n",
            "12/12 [==============================] - 46s 4s/step - loss: 0.4338 - Accuracy: 0.8525 - val_loss: 0.7422 - val_Accuracy: 0.7308\n",
            "Epoch 20/50\n",
            "12/12 [==============================] - 47s 4s/step - loss: 0.3985 - Accuracy: 0.8499 - val_loss: 0.6694 - val_Accuracy: 0.6923\n",
            "Epoch 21/50\n",
            "12/12 [==============================] - 48s 4s/step - loss: 0.3627 - Accuracy: 0.8713 - val_loss: 0.6228 - val_Accuracy: 0.8077\n",
            "Epoch 22/50\n",
            "12/12 [==============================] - 56s 5s/step - loss: 0.4652 - Accuracy: 0.8231 - val_loss: 0.6150 - val_Accuracy: 0.7308\n",
            "Epoch 23/50\n",
            "12/12 [==============================] - 47s 4s/step - loss: 0.4111 - Accuracy: 0.8391 - val_loss: 0.5799 - val_Accuracy: 0.7692\n",
            "Epoch 24/50\n",
            "12/12 [==============================] - 45s 4s/step - loss: 0.4783 - Accuracy: 0.8123 - val_loss: 0.7022 - val_Accuracy: 0.7692\n",
            "Epoch 25/50\n",
            "12/12 [==============================] - 42s 3s/step - loss: 0.3896 - Accuracy: 0.8552 - val_loss: 0.5995 - val_Accuracy: 0.8077\n",
            "Epoch 26/50\n",
            "12/12 [==============================] - 44s 4s/step - loss: 0.3250 - Accuracy: 0.8767 - val_loss: 0.5312 - val_Accuracy: 0.7692\n",
            "Epoch 27/50\n",
            "12/12 [==============================] - 48s 4s/step - loss: 0.3725 - Accuracy: 0.8767 - val_loss: 0.5083 - val_Accuracy: 0.8846\n",
            "Epoch 28/50\n",
            "12/12 [==============================] - 46s 4s/step - loss: 0.3482 - Accuracy: 0.8794 - val_loss: 0.6743 - val_Accuracy: 0.6923\n",
            "Epoch 29/50\n",
            "12/12 [==============================] - 46s 4s/step - loss: 0.3782 - Accuracy: 0.8499 - val_loss: 0.4950 - val_Accuracy: 0.7692\n",
            "Epoch 30/50\n",
            "12/12 [==============================] - 45s 4s/step - loss: 0.3593 - Accuracy: 0.8633 - val_loss: 0.4666 - val_Accuracy: 0.8462\n",
            "Epoch 31/50\n",
            "12/12 [==============================] - 49s 4s/step - loss: 0.3333 - Accuracy: 0.8767 - val_loss: 0.4535 - val_Accuracy: 0.8462\n",
            "Epoch 32/50\n",
            "12/12 [==============================] - 44s 4s/step - loss: 0.3353 - Accuracy: 0.8820 - val_loss: 0.5791 - val_Accuracy: 0.7692\n",
            "Epoch 33/50\n",
            "12/12 [==============================] - 45s 4s/step - loss: 0.3558 - Accuracy: 0.8606 - val_loss: 0.5202 - val_Accuracy: 0.8077\n",
            "Epoch 34/50\n",
            "12/12 [==============================] - 51s 4s/step - loss: 0.3113 - Accuracy: 0.8928 - val_loss: 0.5737 - val_Accuracy: 0.7692\n",
            "Epoch 35/50\n",
            "12/12 [==============================] - 49s 4s/step - loss: 0.2762 - Accuracy: 0.9115 - val_loss: 0.4915 - val_Accuracy: 0.8462\n",
            "Epoch 36/50\n",
            "12/12 [==============================] - 44s 4s/step - loss: 0.2545 - Accuracy: 0.9008 - val_loss: 0.4671 - val_Accuracy: 0.8846\n",
            "Epoch 37/50\n",
            "12/12 [==============================] - 49s 4s/step - loss: 0.2462 - Accuracy: 0.9357 - val_loss: 0.6346 - val_Accuracy: 0.7692\n",
            "Epoch 38/50\n",
            "12/12 [==============================] - 43s 4s/step - loss: 0.2940 - Accuracy: 0.8874 - val_loss: 0.4896 - val_Accuracy: 0.8077\n",
            "Epoch 39/50\n",
            "12/12 [==============================] - 50s 4s/step - loss: 0.3135 - Accuracy: 0.8686 - val_loss: 0.7486 - val_Accuracy: 0.6923\n",
            "Epoch 40/50\n",
            "12/12 [==============================] - 50s 4s/step - loss: 0.4232 - Accuracy: 0.8499 - val_loss: 0.5757 - val_Accuracy: 0.8462\n",
            "Epoch 41/50\n",
            "12/12 [==============================] - 48s 4s/step - loss: 0.3064 - Accuracy: 0.8740 - val_loss: 0.5203 - val_Accuracy: 0.6923\n",
            "Epoch 42/50\n",
            "12/12 [==============================] - 68s 6s/step - loss: 0.2607 - Accuracy: 0.9223 - val_loss: 0.4282 - val_Accuracy: 0.8846\n",
            "Epoch 43/50\n",
            "12/12 [==============================] - 48s 4s/step - loss: 0.2765 - Accuracy: 0.9008 - val_loss: 0.4643 - val_Accuracy: 0.8077\n",
            "Epoch 44/50\n",
            "12/12 [==============================] - 48s 4s/step - loss: 0.3133 - Accuracy: 0.9008 - val_loss: 0.7484 - val_Accuracy: 0.7692\n",
            "Epoch 45/50\n",
            "12/12 [==============================] - 47s 4s/step - loss: 0.2434 - Accuracy: 0.9035 - val_loss: 0.4325 - val_Accuracy: 0.8846\n",
            "Epoch 46/50\n",
            "12/12 [==============================] - 44s 4s/step - loss: 0.2839 - Accuracy: 0.8901 - val_loss: 0.4493 - val_Accuracy: 0.8462\n",
            "Epoch 47/50\n",
            "12/12 [==============================] - 50s 4s/step - loss: 0.2823 - Accuracy: 0.8874 - val_loss: 0.6047 - val_Accuracy: 0.7308\n",
            "Epoch 48/50\n",
            "12/12 [==============================] - 49s 4s/step - loss: 0.2614 - Accuracy: 0.9062 - val_loss: 0.4295 - val_Accuracy: 0.8846\n",
            "Epoch 49/50\n",
            "12/12 [==============================] - 49s 4s/step - loss: 0.2395 - Accuracy: 0.9249 - val_loss: 0.5807 - val_Accuracy: 0.7692\n",
            "Epoch 50/50\n",
            "12/12 [==============================] - 44s 4s/step - loss: 0.1923 - Accuracy: 0.9330 - val_loss: 0.5072 - val_Accuracy: 0.8077\n"
          ]
        }
      ]
    },
    {
      "cell_type": "code",
      "source": [
        "from sklearn.metrics import roc_auc_score\n",
        "from sklearn.metrics import roc_curve, auc\n",
        "predict = model.predict_generator(X_test)\n",
        "#roc_auc_score(y_test, predict, multi_class='ovr')\n",
        "fpr = dict()\n",
        "tpr = dict()\n",
        "roc_auc = dict()\n",
        "for i in range(12):  #num_Class\n",
        "    fpr[i], tpr[i], _ = roc_curve(y_test[:, i], predict[:, i])\n",
        "    roc_auc[i] = auc(fpr[i], tpr[i])\n",
        "print(roc_auc)"
      ],
      "metadata": {
        "colab": {
          "base_uri": "https://localhost:8080/"
        },
        "id": "buLtIiW5DLpZ",
        "outputId": "4533b829-cf72-4d8b-f254-5262b0555c18"
      },
      "execution_count": null,
      "outputs": [
        {
          "output_type": "stream",
          "name": "stderr",
          "text": [
            "<ipython-input-12-d79997580d80>:3: UserWarning: `Model.predict_generator` is deprecated and will be removed in a future version. Please use `Model.predict`, which supports generators.\n",
            "  predict = model.predict_generator(X_test)\n"
          ]
        },
        {
          "output_type": "stream",
          "name": "stdout",
          "text": [
            "{0: 1.0, 1: 1.0, 2: 1.0, 3: 0.9710144927536233, 4: 1.0, 5: 1.0, 6: 1.0, 7: 1.0, 8: 0.9855072463768116, 9: 1.0, 10: 1.0, 11: 1.0}\n"
          ]
        }
      ]
    },
    {
      "cell_type": "code",
      "source": [
        "model.evaluate(X_test,y_test)"
      ],
      "metadata": {
        "colab": {
          "base_uri": "https://localhost:8080/"
        },
        "id": "EBu8Bco4W3kH",
        "outputId": "54c7079c-b94e-4c7e-f11f-58adf13dc1e6"
      },
      "execution_count": null,
      "outputs": [
        {
          "output_type": "stream",
          "name": "stdout",
          "text": [
            "1/1 [==============================] - 2s 2s/step - loss: 0.5072 - Accuracy: 0.8077\n"
          ]
        },
        {
          "output_type": "execute_result",
          "data": {
            "text/plain": [
              "[0.5072307586669922, 0.807692289352417]"
            ]
          },
          "metadata": {},
          "execution_count": 13
        }
      ]
    },
    {
      "cell_type": "code",
      "source": [
        "plt.plot(model_history.history['loss'])\n",
        "plt.plot(model_history.history['val_loss'])\n",
        "plt.title('model loss')\n",
        "plt.ylabel('loss')\n",
        "plt.xlabel('epoch')\n",
        "plt.legend(['train', 'validation'], loc='upper left')\n",
        "plt.show()"
      ],
      "metadata": {
        "colab": {
          "base_uri": "https://localhost:8080/",
          "height": 472
        },
        "id": "olJq0e6vW6OB",
        "outputId": "19ec4c36-0620-4ad5-9935-4ca813daee25"
      },
      "execution_count": null,
      "outputs": [
        {
          "output_type": "display_data",
          "data": {
            "text/plain": [
              "<Figure size 640x480 with 1 Axes>"
            ],
            "image/png": "[encoded data removed]"
          },
          "metadata": {}
        }
      ]
    },
    {
      "cell_type": "code",
      "source": [
        "model.save(\"/content/drive/MyDrive/SET Project 2/my_model4\")"
      ],
      "metadata": {
        "id": "-csuwxe-XAlq"
      },
      "execution_count": null,
      "outputs": []
    },
    {
      "cell_type": "code",
      "source": [
        "import numpy as np\n",
        "arr=np.array([[1,2,3]])\n",
        "arr.shape"
      ],
      "metadata": {
        "id": "fob4mK2FbXSz",
        "outputId": "21d87742-6e12-4e27-a25a-384d1bf592b6",
        "colab": {
          "base_uri": "https://localhost:8080/"
        }
      },
      "execution_count": null,
      "outputs": [
        {
          "output_type": "execute_result",
          "data": {
            "text/plain": [
              "(1, 3)"
            ]
          },
          "metadata": {},
          "execution_count": 1
        }
      ]
    }
  ]
}
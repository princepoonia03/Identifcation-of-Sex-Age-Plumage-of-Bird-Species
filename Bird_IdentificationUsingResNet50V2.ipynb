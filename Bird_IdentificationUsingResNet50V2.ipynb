{
  "nbformat": 4,
  "nbformat_minor": 0,
  "metadata": {
    "colab": {
      "provenance": []
    },
    "kernelspec": {
      "name": "python3",
      "display_name": "Python 3"
    },
    "language_info": {
      "name": "python"
    }
  },
  "cells": [
    {
      "cell_type": "code",
      "execution_count": null,
      "metadata": {
        "colab": {
          "base_uri": "https://localhost:8080/"
        },
        "id": "HJpImfq9dUxM",
        "outputId": "da0539a4-fd81-464e-8da9-daa774de0c94"
      },
      "outputs": [
        {
          "output_type": "stream",
          "name": "stdout",
          "text": [
            "Mounted at /content/drive\n"
          ]
        }
      ],
      "source": [
        "from google.colab import drive\n",
        "drive.mount('/content/drive')"
      ]
    },
    {
      "cell_type": "code",
      "source": [
        "import tensorflow as tf\n",
        "\n",
        "from keras import datasets, layers, models\n",
        "import matplotlib.pyplot as plt"
      ],
      "metadata": {
        "id": "EMZnEkNvdWjr"
      },
      "execution_count": null,
      "outputs": []
    },
    {
      "cell_type": "code",
      "source": [
        "from keras.preprocessing.image import ImageDataGenerator\n",
        "\n",
        "# All images will be rescaled by 1./255\n",
        "train_datagen = ImageDataGenerator(\n",
        "        rescale=1./255)\n",
        "\n",
        "validation_datagen = ImageDataGenerator(rescale=1./255)\n",
        "\n",
        "# Flow training images in batches of 128 using train_datagen generator\n",
        "train_data = train_datagen.flow_from_directory(\n",
        "        '/content/drive/MyDrive/SET Project 2/Photos for Data Training/Training',  # This is the source directory for training images\n",
        "        target_size=(224, 224),  # All images will be resized to 150x150\n",
        "        batch_size= 32,\n",
        "        class_mode='categorical')\n",
        "\n",
        "# Flow training images in batches of 128 using train_datagen generator\n",
        "validation_data = validation_datagen.flow_from_directory(\n",
        "        '/content/drive/MyDrive/SET Project 2/Photos for Data Training/Testing',  # This is the source directory for training images\n",
        "        target_size=(224, 224),  # All images will be resized to 150x150\n",
        "        batch_size= 8,\n",
        "        class_mode='categorical')"
      ],
      "metadata": {
        "colab": {
          "base_uri": "https://localhost:8080/"
        },
        "id": "MsBul1aHRQTV",
        "outputId": "e1e34f7f-a3cc-4749-d3ac-5664974d3e8f"
      },
      "execution_count": null,
      "outputs": [
        {
          "output_type": "stream",
          "name": "stdout",
          "text": [
            "Found 373 images belonging to 12 classes.\n",
            "Found 26 images belonging to 12 classes.\n"
          ]
        }
      ]
    },
    {
      "cell_type": "code",
      "source": [
        "# Import the required modules for model creation\n",
        "from keras import layers\n",
        "# from keras+ import preprocessing\n",
        "from keras.models import Sequential\n",
        "\n",
        "# Setup data augmentation\n",
        "data_aug = Sequential([\n",
        "  layers.RandomFlip(\"horizontal\"), # randomly flip images on horizontal edge\n",
        "  layers.RandomRotation(0.2), # randomly rotate images by a specific amount\n",
        "  layers.RandomHeight(0.2), # randomly adjust the height of an image by a specific amount\n",
        "  layers.RandomWidth(0.2), # randomly adjust the width of an image by a specific amount\n",
        "  layers.RandomZoom(0.2), # randomly zoom into an image\n",
        "  # preprocessing.Rescaling(1./255) # keep for models like ResNet50V2, remove for EfficientNet\n",
        "], name=\"data_augmentation\")"
      ],
      "metadata": {
        "id": "UTUCi8AuRRNE"
      },
      "execution_count": null,
      "outputs": []
    },
    {
      "cell_type": "code",
      "source": [
        "base_model = tf.keras.applications.resnet_v2.ResNet50V2(weights = \"imagenet\", include_top=False, input_shape = (224, 224, 3))\n",
        "\n",
        "# Unfreeze all of the layers in the base model\n",
        "base_model.trainable = True\n",
        "\n",
        "# Refreeze every layer except for the last 5\n",
        "for layer in base_model.layers[:-5]:\n",
        "  layer.trainable = False\n",
        "\n",
        "#Adding custom Layers\n",
        "input = tf.keras.layers.Input(shape = (224, 224, 3))\n",
        "x = data_aug(input)\n",
        "x = base_model(x, training = False)\n",
        "x = tf.keras.layers.Dense(1024, activation=\"relu\")(x)\n",
        "x = tf.keras.layers.Dropout(0.2)(x)\n",
        "x = tf.keras.layers.Dense(512, activation=\"relu\")(x)\n",
        "x = tf.keras.layers.Dropout(0.2)(x)\n",
        "x = tf.keras.layers.Dense(256, activation=\"relu\")(x)\n",
        "x = tf.keras.layers.Dropout(0.2)(x)\n",
        "x = tf.keras.layers.GlobalAveragePooling2D()(x)\n",
        "output = tf.keras.layers.Dense(12, activation=\"softmax\")(x)\n",
        "model= tf.keras.Model(inputs = input, outputs = output)"
      ],
      "metadata": {
        "colab": {
          "base_uri": "https://localhost:8080/"
        },
        "id": "gg6vW1nERWfm",
        "outputId": "0716e112-39d2-470f-f890-e4b6d27ef8fc"
      },
      "execution_count": null,
      "outputs": [
        {
          "output_type": "stream",
          "name": "stdout",
          "text": [
            "Downloading data from https://storage.googleapis.com/tensorflow/keras-applications/resnet/resnet50v2_weights_tf_dim_ordering_tf_kernels_notop.h5\n",
            "94668760/94668760 [==============================] - 0s 0us/step\n"
          ]
        }
      ]
    },
    {
      "cell_type": "code",
      "source": [
        "test_generator = validation_datagen.flow_from_directory(\n",
        "        '/content/drive/MyDrive/SET Project 2/Photos for Data Training/Testing',  # This is the source directory for training images\n",
        "        target_size=(224, 224),  # All images will be resized to 150x150\n",
        "        batch_size= 30,\n",
        "        class_mode='categorical')\n",
        "X_test, y_test = test_generator.next()"
      ],
      "metadata": {
        "colab": {
          "base_uri": "https://localhost:8080/"
        },
        "id": "eYBJKfxQRseY",
        "outputId": "c9409508-1f11-4504-f1d7-dfcd3050bbf9"
      },
      "execution_count": null,
      "outputs": [
        {
          "output_type": "stream",
          "name": "stdout",
          "text": [
            "Found 26 images belonging to 12 classes.\n"
          ]
        }
      ]
    },
    {
      "cell_type": "code",
      "source": [
        "model.compile(optimizer=tf.keras.optimizers.Adam(1e-4), loss='categorical_crossentropy', metrics='Accuracy')"
      ],
      "metadata": {
        "id": "HnEgtkWnR14i"
      },
      "execution_count": null,
      "outputs": []
    },
    {
      "cell_type": "code",
      "source": [
        "model_history = model.fit(train_data, epochs = 50, batch_size = 32, validation_data = validation_data, validation_batch_size= 8 )"
      ],
      "metadata": {
        "colab": {
          "base_uri": "https://localhost:8080/"
        },
        "id": "gw5HoXjIR4oA",
        "outputId": "542638e1-7e18-4667-d478-d3ae3366e1b6"
      },
      "execution_count": null,
      "outputs": [
        {
          "output_type": "stream",
          "name": "stdout",
          "text": [
            "Epoch 1/50\n",
            "12/12 [==============================] - 153s 11s/step - loss: 2.1310 - Accuracy: 0.2842 - val_loss: 1.6658 - val_Accuracy: 0.4231\n",
            "Epoch 2/50\n",
            "12/12 [==============================] - 97s 8s/step - loss: 1.4502 - Accuracy: 0.6032 - val_loss: 1.3080 - val_Accuracy: 0.5385\n",
            "Epoch 3/50\n",
            "12/12 [==============================] - 111s 9s/step - loss: 1.0885 - Accuracy: 0.6810 - val_loss: 1.0289 - val_Accuracy: 0.6923\n",
            "Epoch 4/50\n",
            "12/12 [==============================] - 99s 8s/step - loss: 0.7801 - Accuracy: 0.7721 - val_loss: 0.8335 - val_Accuracy: 0.6154\n",
            "Epoch 5/50\n",
            "12/12 [==============================] - 93s 8s/step - loss: 0.6714 - Accuracy: 0.7560 - val_loss: 0.7544 - val_Accuracy: 0.7308\n",
            "Epoch 6/50\n",
            "12/12 [==============================] - 99s 8s/step - loss: 0.5880 - Accuracy: 0.8150 - val_loss: 0.8023 - val_Accuracy: 0.7308\n",
            "Epoch 7/50\n",
            "12/12 [==============================] - 87s 7s/step - loss: 0.5160 - Accuracy: 0.8257 - val_loss: 0.6261 - val_Accuracy: 0.7692\n",
            "Epoch 8/50\n",
            "12/12 [==============================] - 97s 8s/step - loss: 0.4622 - Accuracy: 0.8445 - val_loss: 0.5824 - val_Accuracy: 0.7308\n",
            "Epoch 9/50\n",
            "12/12 [==============================] - 95s 8s/step - loss: 0.3631 - Accuracy: 0.8767 - val_loss: 0.7447 - val_Accuracy: 0.7692\n",
            "Epoch 10/50\n",
            "12/12 [==============================] - 101s 9s/step - loss: 0.4087 - Accuracy: 0.8472 - val_loss: 0.8939 - val_Accuracy: 0.6923\n",
            "Epoch 11/50\n",
            "12/12 [==============================] - 97s 8s/step - loss: 0.3725 - Accuracy: 0.8686 - val_loss: 0.6553 - val_Accuracy: 0.7692\n",
            "Epoch 12/50\n",
            "12/12 [==============================] - 98s 8s/step - loss: 0.4022 - Accuracy: 0.8552 - val_loss: 0.6489 - val_Accuracy: 0.7308\n",
            "Epoch 13/50\n",
            "12/12 [==============================] - 90s 8s/step - loss: 0.3176 - Accuracy: 0.8767 - val_loss: 0.6929 - val_Accuracy: 0.7308\n",
            "Epoch 14/50\n",
            "12/12 [==============================] - 96s 8s/step - loss: 0.2977 - Accuracy: 0.8928 - val_loss: 0.5607 - val_Accuracy: 0.7692\n",
            "Epoch 15/50\n",
            "12/12 [==============================] - 95s 8s/step - loss: 0.3134 - Accuracy: 0.8740 - val_loss: 0.6128 - val_Accuracy: 0.7308\n",
            "Epoch 16/50\n",
            "12/12 [==============================] - 97s 8s/step - loss: 0.2762 - Accuracy: 0.8928 - val_loss: 0.5825 - val_Accuracy: 0.7692\n",
            "Epoch 17/50\n",
            "12/12 [==============================] - 103s 8s/step - loss: 0.2289 - Accuracy: 0.9223 - val_loss: 0.7239 - val_Accuracy: 0.6923\n",
            "Epoch 18/50\n",
            "12/12 [==============================] - 95s 8s/step - loss: 0.2363 - Accuracy: 0.9223 - val_loss: 0.6717 - val_Accuracy: 0.7308\n",
            "Epoch 19/50\n",
            "12/12 [==============================] - 97s 8s/step - loss: 0.2052 - Accuracy: 0.9249 - val_loss: 0.5883 - val_Accuracy: 0.7692\n",
            "Epoch 20/50\n",
            "12/12 [==============================] - 95s 8s/step - loss: 0.1986 - Accuracy: 0.9357 - val_loss: 0.5950 - val_Accuracy: 0.7692\n",
            "Epoch 21/50\n",
            "12/12 [==============================] - 101s 8s/step - loss: 0.2309 - Accuracy: 0.9142 - val_loss: 0.7245 - val_Accuracy: 0.8077\n",
            "Epoch 22/50\n",
            "12/12 [==============================] - 101s 8s/step - loss: 0.2074 - Accuracy: 0.9303 - val_loss: 0.4995 - val_Accuracy: 0.8077\n",
            "Epoch 23/50\n",
            "12/12 [==============================] - 105s 9s/step - loss: 0.1958 - Accuracy: 0.9383 - val_loss: 0.5701 - val_Accuracy: 0.7308\n",
            "Epoch 24/50\n",
            "12/12 [==============================] - 100s 8s/step - loss: 0.1869 - Accuracy: 0.9357 - val_loss: 0.7717 - val_Accuracy: 0.8077\n",
            "Epoch 25/50\n",
            "12/12 [==============================] - 99s 8s/step - loss: 0.1568 - Accuracy: 0.9491 - val_loss: 0.7201 - val_Accuracy: 0.7308\n",
            "Epoch 26/50\n",
            "12/12 [==============================] - 104s 9s/step - loss: 0.1716 - Accuracy: 0.9437 - val_loss: 0.8234 - val_Accuracy: 0.7308\n",
            "Epoch 27/50\n",
            "12/12 [==============================] - 95s 8s/step - loss: 0.1399 - Accuracy: 0.9517 - val_loss: 0.6455 - val_Accuracy: 0.7308\n",
            "Epoch 28/50\n",
            "12/12 [==============================] - 108s 9s/step - loss: 0.1480 - Accuracy: 0.9598 - val_loss: 0.7605 - val_Accuracy: 0.6923\n",
            "Epoch 29/50\n",
            "12/12 [==============================] - 92s 8s/step - loss: 0.1445 - Accuracy: 0.9410 - val_loss: 0.6490 - val_Accuracy: 0.7308\n",
            "Epoch 30/50\n",
            "12/12 [==============================] - 95s 8s/step - loss: 0.1380 - Accuracy: 0.9651 - val_loss: 0.7685 - val_Accuracy: 0.7308\n",
            "Epoch 31/50\n",
            "12/12 [==============================] - 97s 8s/step - loss: 0.1463 - Accuracy: 0.9464 - val_loss: 0.6112 - val_Accuracy: 0.7308\n",
            "Epoch 32/50\n",
            "12/12 [==============================] - 100s 8s/step - loss: 0.1117 - Accuracy: 0.9678 - val_loss: 0.9240 - val_Accuracy: 0.7692\n",
            "Epoch 33/50\n",
            "12/12 [==============================] - 94s 8s/step - loss: 0.1809 - Accuracy: 0.9276 - val_loss: 0.9050 - val_Accuracy: 0.7308\n",
            "Epoch 34/50\n",
            "12/12 [==============================] - 92s 8s/step - loss: 0.1560 - Accuracy: 0.9517 - val_loss: 0.8046 - val_Accuracy: 0.6538\n",
            "Epoch 35/50\n",
            "12/12 [==============================] - 97s 8s/step - loss: 0.1444 - Accuracy: 0.9464 - val_loss: 0.9336 - val_Accuracy: 0.7308\n",
            "Epoch 36/50\n",
            "12/12 [==============================] - 97s 8s/step - loss: 0.1126 - Accuracy: 0.9651 - val_loss: 0.6570 - val_Accuracy: 0.7692\n",
            "Epoch 37/50\n",
            "12/12 [==============================] - 88s 7s/step - loss: 0.1398 - Accuracy: 0.9383 - val_loss: 0.8866 - val_Accuracy: 0.6923\n",
            "Epoch 38/50\n",
            "12/12 [==============================] - 95s 8s/step - loss: 0.1325 - Accuracy: 0.9598 - val_loss: 0.7140 - val_Accuracy: 0.7308\n",
            "Epoch 39/50\n",
            "12/12 [==============================] - 99s 8s/step - loss: 0.1205 - Accuracy: 0.9625 - val_loss: 0.6532 - val_Accuracy: 0.7308\n",
            "Epoch 40/50\n",
            "12/12 [==============================] - 101s 8s/step - loss: 0.1421 - Accuracy: 0.9464 - val_loss: 0.7416 - val_Accuracy: 0.7692\n",
            "Epoch 41/50\n",
            "12/12 [==============================] - 94s 8s/step - loss: 0.1302 - Accuracy: 0.9491 - val_loss: 0.8093 - val_Accuracy: 0.7308\n",
            "Epoch 42/50\n",
            "12/12 [==============================] - 91s 8s/step - loss: 0.0988 - Accuracy: 0.9651 - val_loss: 0.8214 - val_Accuracy: 0.7692\n",
            "Epoch 43/50\n",
            "12/12 [==============================] - 96s 8s/step - loss: 0.1006 - Accuracy: 0.9678 - val_loss: 0.8386 - val_Accuracy: 0.8077\n",
            "Epoch 44/50\n",
            "12/12 [==============================] - 94s 8s/step - loss: 0.0795 - Accuracy: 0.9705 - val_loss: 0.7494 - val_Accuracy: 0.7308\n",
            "Epoch 45/50\n",
            "12/12 [==============================] - 102s 9s/step - loss: 0.0982 - Accuracy: 0.9625 - val_loss: 0.7731 - val_Accuracy: 0.8077\n",
            "Epoch 46/50\n",
            "12/12 [==============================] - 105s 9s/step - loss: 0.1278 - Accuracy: 0.9625 - val_loss: 0.6341 - val_Accuracy: 0.8077\n",
            "Epoch 47/50\n",
            "12/12 [==============================] - 96s 8s/step - loss: 0.0844 - Accuracy: 0.9678 - val_loss: 0.8944 - val_Accuracy: 0.7308\n",
            "Epoch 48/50\n",
            "12/12 [==============================] - 98s 8s/step - loss: 0.0744 - Accuracy: 0.9759 - val_loss: 0.8341 - val_Accuracy: 0.7308\n",
            "Epoch 49/50\n",
            "12/12 [==============================] - 98s 8s/step - loss: 0.0673 - Accuracy: 0.9759 - val_loss: 0.7204 - val_Accuracy: 0.6923\n",
            "Epoch 50/50\n",
            "12/12 [==============================] - 93s 8s/step - loss: 0.0755 - Accuracy: 0.9866 - val_loss: 0.9718 - val_Accuracy: 0.6923\n"
          ]
        }
      ]
    },
    {
      "cell_type": "code",
      "source": [
        "model.save(\"/content/drive/MyDrive/SET Project 2/my_model2\")"
      ],
      "metadata": {
        "colab": {
          "base_uri": "https://localhost:8080/"
        },
        "id": "wD7m44S-s8bC",
        "outputId": "c08a7c5f-37a9-490f-e83a-4650172dbbad"
      },
      "execution_count": null,
      "outputs": [
        {
          "output_type": "stream",
          "name": "stderr",
          "text": [
            "WARNING:absl:Found untraced functions such as _update_step_xla, _jit_compiled_convolution_op, _jit_compiled_convolution_op, _jit_compiled_convolution_op, _jit_compiled_convolution_op while saving (showing 5 of 54). These functions will not be directly callable after loading.\n"
          ]
        }
      ]
    },
    {
      "cell_type": "code",
      "source": [
        "from sklearn.metrics import roc_auc_score\n",
        "from sklearn.metrics import roc_curve, auc\n",
        "predict = model.predict(X_test)\n",
        "#roc_auc_score(y_test, predict, multi_class='ovr')\n",
        "fpr = dict()\n",
        "tpr = dict()\n",
        "roc_auc = dict()\n",
        "for i in range(12):  #num_Class\n",
        "    fpr[i], tpr[i], _ = roc_curve(y_test[:, i], predict[:, i])\n",
        "    roc_auc[i] = auc(fpr[i], tpr[i])\n",
        "print(roc_auc)"
      ],
      "metadata": {
        "colab": {
          "base_uri": "https://localhost:8080/"
        },
        "id": "v5YuOwv2o1gD",
        "outputId": "86db4e6f-363c-4285-d1dc-afc88ec97772"
      },
      "execution_count": null,
      "outputs": [
        {
          "output_type": "stream",
          "name": "stdout",
          "text": [
            "1/1 [==============================] - 8s 8s/step\n",
            "{0: 1.0, 1: 0.88, 2: 1.0, 3: 0.8840579710144928, 4: 1.0, 5: 1.0, 6: 1.0, 7: 1.0, 8: 1.0, 9: 1.0, 10: 1.0, 11: 0.9791666666666667}\n"
          ]
        }
      ]
    },
    {
      "cell_type": "code",
      "source": [
        "model.evaluate(X_test,y_test)"
      ],
      "metadata": {
        "colab": {
          "base_uri": "https://localhost:8080/"
        },
        "id": "_CYhs74ro8ye",
        "outputId": "96266247-bc99-4dae-e0f6-ef89c6d5f9f4"
      },
      "execution_count": null,
      "outputs": [
        {
          "output_type": "stream",
          "name": "stdout",
          "text": [
            "1/1 [==============================] - 8s 8s/step - loss: 0.9718 - Accuracy: 0.6923\n"
          ]
        },
        {
          "output_type": "execute_result",
          "data": {
            "text/plain": [
              "[0.9718443751335144, 0.692307710647583]"
            ]
          },
          "metadata": {},
          "execution_count": 15
        }
      ]
    },
    {
      "cell_type": "code",
      "source": [
        "plt.plot(model_history.history['loss'])\n",
        "plt.plot(model_history.history['val_loss'])\n",
        "plt.title('model loss')\n",
        "plt.ylabel('loss')\n",
        "plt.xlabel('epoch')\n",
        "plt.legend(['train', 'validation'], loc='upper left')\n",
        "plt.show()"
      ],
      "metadata": {
        "colab": {
          "base_uri": "https://localhost:8080/",
          "height": 472
        },
        "id": "dUvGsG_xpIXr",
        "outputId": "5ccb25fe-eedc-407a-9638-c41aad9b71b1"
      },
      "execution_count": null,
      "outputs": [
        {
          "output_type": "display_data",
          "data": {
            "text/plain": [
              "<Figure size 640x480 with 1 Axes>"
            ],
            "image/png": "[encoded data removed]"
          },
          "metadata": {}
        }
      ]
    },
    {
      "cell_type": "code",
      "source": [
        "import numpy as np\n",
        "import matplotlib.pyplot as plt\n",
        "plt.rcParams[\"font.family\"] = \"Times New Roman\"\n",
        "plt.figure()\n",
        "lw = 2\n",
        "plt.plot(\n",
        "    fpr[1],#Class_ID\n",
        "    tpr[1],#Class_ID\n",
        "    color=\"black\",\n",
        "    lw=lw,\n",
        "    label=\"ResNet50V2 (area = %0.2f)\" % roc_auc[0],#Class_ID\n",
        ")\n",
        "plt.plot([0, 1], [0, 1], color=\"navy\", lw=lw, linestyle=\"--\")\n",
        "plt.xlim([0.0, 1.0])\n",
        "plt.ylim([0.0, 1.05])\n",
        "plt.xlabel(\"False Positive Rate\")\n",
        "plt.ylabel(\"True Positive Rate\")\n",
        "plt.title(\"Receiver operating characteristic (Gray_Blight)\")\n",
        "plt.legend(loc=\"lower right\")\n",
        "plt.show()\n",
        "plt.savefig('Gray_Blight.png')"
      ],
      "metadata": {
        "colab": {
          "base_uri": "https://localhost:8080/",
          "height": 1000
        },
        "id": "vUSnuclGAj-t",
        "outputId": "1d442bd4-b574-4ba4-e0a3-4c54b9f17628"
      },
      "execution_count": null,
      "outputs": [
        {
          "output_type": "stream",
          "name": "stderr",
          "text": [
            "WARNING:matplotlib.font_manager:findfont: Font family 'Times New Roman' not found.\n",
            "WARNING:matplotlib.font_manager:findfont: Font family 'Times New Roman' not found.\n",
            "WARNING:matplotlib.font_manager:findfont: Font family 'Times New Roman' not found.\n",
            "WARNING:matplotlib.font_manager:findfont: Font family 'Times New Roman' not found.\n",
            "WARNING:matplotlib.font_manager:findfont: Font family 'Times New Roman' not found.\n",
            "WARNING:matplotlib.font_manager:findfont: Font family 'Times New Roman' not found.\n",
            "WARNING:matplotlib.font_manager:findfont: Font family 'Times New Roman' not found.\n",
            "WARNING:matplotlib.font_manager:findfont: Font family 'Times New Roman' not found.\n",
            "WARNING:matplotlib.font_manager:findfont: Font family 'Times New Roman' not found.\n",
            "WARNING:matplotlib.font_manager:findfont: Font family 'Times New Roman' not found.\n",
            "WARNING:matplotlib.font_manager:findfont: Font family 'Times New Roman' not found.\n",
            "WARNING:matplotlib.font_manager:findfont: Font family 'Times New Roman' not found.\n",
            "WARNING:matplotlib.font_manager:findfont: Font family 'Times New Roman' not found.\n",
            "WARNING:matplotlib.font_manager:findfont: Font family 'Times New Roman' not found.\n",
            "WARNING:matplotlib.font_manager:findfont: Font family 'Times New Roman' not found.\n",
            "WARNING:matplotlib.font_manager:findfont: Font family 'Times New Roman' not found.\n",
            "WARNING:matplotlib.font_manager:findfont: Font family 'Times New Roman' not found.\n",
            "WARNING:matplotlib.font_manager:findfont: Font family 'Times New Roman' not found.\n",
            "WARNING:matplotlib.font_manager:findfont: Font family 'Times New Roman' not found.\n",
            "WARNING:matplotlib.font_manager:findfont: Font family 'Times New Roman' not found.\n",
            "WARNING:matplotlib.font_manager:findfont: Font family 'Times New Roman' not found.\n",
            "WARNING:matplotlib.font_manager:findfont: Font family 'Times New Roman' not found.\n",
            "WARNING:matplotlib.font_manager:findfont: Font family 'Times New Roman' not found.\n",
            "WARNING:matplotlib.font_manager:findfont: Font family 'Times New Roman' not found.\n",
            "WARNING:matplotlib.font_manager:findfont: Font family 'Times New Roman' not found.\n",
            "WARNING:matplotlib.font_manager:findfont: Font family 'Times New Roman' not found.\n",
            "WARNING:matplotlib.font_manager:findfont: Font family 'Times New Roman' not found.\n",
            "WARNING:matplotlib.font_manager:findfont: Font family 'Times New Roman' not found.\n",
            "WARNING:matplotlib.font_manager:findfont: Font family 'Times New Roman' not found.\n",
            "WARNING:matplotlib.font_manager:findfont: Font family 'Times New Roman' not found.\n",
            "WARNING:matplotlib.font_manager:findfont: Font family 'Times New Roman' not found.\n",
            "WARNING:matplotlib.font_manager:findfont: Font family 'Times New Roman' not found.\n",
            "WARNING:matplotlib.font_manager:findfont: Font family 'Times New Roman' not found.\n",
            "WARNING:matplotlib.font_manager:findfont: Font family 'Times New Roman' not found.\n",
            "WARNING:matplotlib.font_manager:findfont: Font family 'Times New Roman' not found.\n",
            "WARNING:matplotlib.font_manager:findfont: Font family 'Times New Roman' not found.\n",
            "WARNING:matplotlib.font_manager:findfont: Font family 'Times New Roman' not found.\n",
            "WARNING:matplotlib.font_manager:findfont: Font family 'Times New Roman' not found.\n",
            "WARNING:matplotlib.font_manager:findfont: Font family 'Times New Roman' not found.\n",
            "WARNING:matplotlib.font_manager:findfont: Font family 'Times New Roman' not found.\n",
            "WARNING:matplotlib.font_manager:findfont: Font family 'Times New Roman' not found.\n",
            "WARNING:matplotlib.font_manager:findfont: Font family 'Times New Roman' not found.\n",
            "WARNING:matplotlib.font_manager:findfont: Font family 'Times New Roman' not found.\n",
            "WARNING:matplotlib.font_manager:findfont: Font family 'Times New Roman' not found.\n",
            "WARNING:matplotlib.font_manager:findfont: Font family 'Times New Roman' not found.\n",
            "WARNING:matplotlib.font_manager:findfont: Font family 'Times New Roman' not found.\n",
            "WARNING:matplotlib.font_manager:findfont: Font family 'Times New Roman' not found.\n",
            "WARNING:matplotlib.font_manager:findfont: Font family 'Times New Roman' not found.\n",
            "WARNING:matplotlib.font_manager:findfont: Font family 'Times New Roman' not found.\n",
            "WARNING:matplotlib.font_manager:findfont: Font family 'Times New Roman' not found.\n",
            "WARNING:matplotlib.font_manager:findfont: Font family 'Times New Roman' not found.\n",
            "WARNING:matplotlib.font_manager:findfont: Font family 'Times New Roman' not found.\n",
            "WARNING:matplotlib.font_manager:findfont: Font family 'Times New Roman' not found.\n"
          ]
        },
        {
          "output_type": "display_data",
          "data": {
            "text/plain": [
              "<Figure size 640x480 with 1 Axes>"
            ],
            "image/png": "[encoded data removed]"
          },
          "metadata": {}
        },
        {
          "output_type": "display_data",
          "data": {
            "text/plain": [
              "<Figure size 640x480 with 0 Axes>"
            ]
          },
          "metadata": {}
        }
      ]
    }
  ]
}
{
  "cells": [
    {
      "cell_type": "code",
      "execution_count": null,
      "metadata": {
        "colab": {
          "base_uri": "https://localhost:8080/"
        },
        "id": "pwzj5kBSRtS2",
        "outputId": "86e63482-5e17-4d06-d715-a5dc001f516c"
      },
      "outputs": [
        {
          "output_type": "stream",
          "name": "stdout",
          "text": [
            "Mounted at /content/drive\n"
          ]
        }
      ],
      "source": [
        "from google.colab import drive\n",
        "drive.mount('/content/drive')"
      ]
    },
    {
      "cell_type": "code",
      "execution_count": null,
      "metadata": {
        "id": "qvfZg3LQbD-5"
      },
      "outputs": [],
      "source": [
        "import tensorflow as tf\n",
        "\n",
        "from keras import datasets, layers, models\n",
        "import matplotlib.pyplot as plt"
      ]
    },
    {
      "cell_type": "code",
      "execution_count": null,
      "metadata": {
        "colab": {
          "base_uri": "https://localhost:8080/"
        },
        "id": "ClebU9NJg99G",
        "outputId": "8611c55f-69a1-4357-e152-a58c4d6850f9"
      },
      "outputs": [
        {
          "output_type": "stream",
          "name": "stdout",
          "text": [
            "Found 373 images belonging to 12 classes.\n",
            "Found 26 images belonging to 12 classes.\n"
          ]
        }
      ],
      "source": [
        "from keras.preprocessing.image import ImageDataGenerator\n",
        "\n",
        "# All images will be rescaled by 1./255\n",
        "train_datagen = ImageDataGenerator(\n",
        "        rescale=1./255)\n",
        "\n",
        "validation_datagen = ImageDataGenerator(rescale=1./255)\n",
        "\n",
        "# Flow training images in batches of 128 using train_datagen generator\n",
        "train_data = train_datagen.flow_from_directory(\n",
        "        '/content/drive/MyDrive/SET Project 2/Photos for Data Training/Training',  # This is the source directory for training images\n",
        "        target_size=(224, 224),  # All images will be resized to 150x150\n",
        "        batch_size= 32,\n",
        "        class_mode='categorical')\n",
        "\n",
        "# Flow training images in batches of 128 using train_datagen generator\n",
        "validation_data = validation_datagen.flow_from_directory(\n",
        "        '/content/drive/MyDrive/SET Project 2/Photos for Data Training/Testing',  # This is the source directory for training images\n",
        "        target_size=(224, 224),  # All images will be resized to 150x150\n",
        "        batch_size= 8,\n",
        "        class_mode='categorical')"
      ]
    },
    {
      "cell_type": "code",
      "source": [
        "callback = tf.keras.callbacks.EarlyStopping(\n",
        "    monitor='val_loss',\n",
        "    min_delta=0,\n",
        "    patience=3,\n",
        "    verbose=0,\n",
        "    mode='auto',\n",
        "    baseline=None,\n",
        "    restore_best_weights=False,\n",
        "    start_from_epoch=0\n",
        ")"
      ],
      "metadata": {
        "id": "2guomTeJRO_Q"
      },
      "execution_count": null,
      "outputs": []
    },
    {
      "cell_type": "code",
      "source": [
        "\n",
        "# Import the required modules for model creation\n",
        "from keras import layers\n",
        "# from keras+ import preprocessing\n",
        "from keras.models import Sequential\n",
        "\n",
        "# Setup data augmentation\n",
        "data_aug = Sequential([\n",
        "  layers.RandomFlip(\"horizontal\"), # randomly flip images on horizontal edge\n",
        "  layers.RandomRotation(0.2), # randomly rotate images by a specific amount\n",
        "  layers.RandomHeight(0.2), # randomly adjust the height of an image by a specific amount\n",
        "  layers.RandomWidth(0.2), # randomly adjust the width of an image by a specific amount\n",
        "  layers.RandomZoom(0.2), # randomly zoom into an image\n",
        "  # preprocessing.Rescaling(1./255) # keep for models like ResNet50V2, remove for EfficientNet\n",
        "], name=\"data_augmentation\")\n",
        "\n"
      ],
      "metadata": {
        "id": "3ft7Mm5T324O"
      },
      "execution_count": null,
      "outputs": []
    },
    {
      "cell_type": "code",
      "source": [
        "import random\n",
        "base_model = tf.keras.applications.VGG19(weights = \"imagenet\", include_top=False, input_shape = (224, 224, 3))\n",
        "\n",
        "# Unfreeze all of the layers in the base model\n",
        "base_model.trainable = True\n",
        "\n",
        "# Refreeze every layer except for the last 5\n",
        "for layer in base_model.layers[:-5]:\n",
        "  layer.trainable = False\n",
        "\n",
        "#Adding custom Layers\n",
        "input = tf.keras.layers.Input(shape = (224, 224, 3))\n",
        "x = data_aug(input)\n",
        "x = base_model(x, training = False)\n",
        "x = tf.keras.layers.Dense(1024, activation=\"relu\")(x)\n",
        "x = tf.keras.layers.Dropout(0.2)(x)\n",
        "x = tf.keras.layers.Dense(512, activation=\"relu\")(x)\n",
        "x = tf.keras.layers.Dropout(0.2)(x)\n",
        "x = tf.keras.layers.Dense(256, activation=\"relu\")(x)\n",
        "x = tf.keras.layers.Dropout(0.2)(x)\n",
        "x = tf.keras.layers.GlobalAveragePooling2D()(x)\n",
        "output = tf.keras.layers.Dense(12, activation=\"softmax\")(x)\n",
        "model= tf.keras.Model(inputs = input, outputs = output)"
      ],
      "metadata": {
        "id": "jgDIFXsHQA7p",
        "colab": {
          "base_uri": "https://localhost:8080/"
        },
        "outputId": "66c809cf-2b62-4c3c-cfe9-167d26a8c034"
      },
      "execution_count": null,
      "outputs": [
        {
          "output_type": "stream",
          "name": "stdout",
          "text": [
            "Downloading data from https://storage.googleapis.com/tensorflow/keras-applications/vgg19/vgg19_weights_tf_dim_ordering_tf_kernels_notop.h5\n",
            "80134624/80134624 [==============================] - 4s 0us/step\n"
          ]
        }
      ]
    },
    {
      "cell_type": "code",
      "execution_count": null,
      "metadata": {
        "id": "JOJx8TM5YnHz",
        "colab": {
          "base_uri": "https://localhost:8080/"
        },
        "outputId": "35332495-413b-4597-a9cc-c815bd692e37"
      },
      "outputs": [
        {
          "output_type": "stream",
          "name": "stdout",
          "text": [
            "Found 26 images belonging to 12 classes.\n"
          ]
        }
      ],
      "source": [
        "test_generator = validation_datagen.flow_from_directory(\n",
        "        '/content/drive/MyDrive/SET Project 2/Photos for Data Training/Testing',  # This is the source directory for training images\n",
        "        target_size=(224, 224),  # All images will be resized to 150x150\n",
        "        batch_size= 30,\n",
        "        class_mode='categorical')\n",
        "X_test, y_test = test_generator.next()"
      ]
    },
    {
      "cell_type": "code",
      "source": [
        "model.compile(optimizer=tf.keras.optimizers.Adam(1e-4), loss='categorical_crossentropy', metrics='Accuracy')"
      ],
      "metadata": {
        "id": "PaqsYHzg2dwi"
      },
      "execution_count": null,
      "outputs": []
    },
    {
      "cell_type": "code",
      "source": [
        "model_history = model.fit(train_data, epochs = 50, batch_size = 32, validation_data = validation_data, validation_batch_size= 8 )"
      ],
      "metadata": {
        "colab": {
          "base_uri": "https://localhost:8080/"
        },
        "id": "eRxS5pc93VEB",
        "outputId": "d63517ff-f26d-415d-a92a-6e61cbd683f7"
      },
      "execution_count": null,
      "outputs": [
        {
          "output_type": "stream",
          "name": "stdout",
          "text": [
            "Epoch 1/50\n",
            "12/12 [==============================] - 247s 19s/step - loss: 2.3818 - Accuracy: 0.1662 - val_loss: 2.4126 - val_Accuracy: 0.0769\n",
            "Epoch 2/50\n",
            "12/12 [==============================] - 59s 5s/step - loss: 2.0900 - Accuracy: 0.2145 - val_loss: 2.3047 - val_Accuracy: 0.2308\n",
            "Epoch 3/50\n",
            "12/12 [==============================] - 57s 5s/step - loss: 1.9321 - Accuracy: 0.2788 - val_loss: 1.8307 - val_Accuracy: 0.3846\n",
            "Epoch 4/50\n",
            "12/12 [==============================] - 54s 5s/step - loss: 1.7603 - Accuracy: 0.3190 - val_loss: 1.9819 - val_Accuracy: 0.2692\n",
            "Epoch 5/50\n",
            "12/12 [==============================] - 46s 4s/step - loss: 1.5957 - Accuracy: 0.3834 - val_loss: 1.5612 - val_Accuracy: 0.5000\n",
            "Epoch 6/50\n",
            "12/12 [==============================] - 53s 4s/step - loss: 1.4363 - Accuracy: 0.4611 - val_loss: 1.3269 - val_Accuracy: 0.5000\n",
            "Epoch 7/50\n",
            "12/12 [==============================] - 51s 4s/step - loss: 1.1947 - Accuracy: 0.5657 - val_loss: 1.1361 - val_Accuracy: 0.5769\n",
            "Epoch 8/50\n",
            "12/12 [==============================] - 50s 4s/step - loss: 1.0819 - Accuracy: 0.6005 - val_loss: 1.0256 - val_Accuracy: 0.6154\n",
            "Epoch 9/50\n",
            "12/12 [==============================] - 51s 4s/step - loss: 0.9931 - Accuracy: 0.6032 - val_loss: 1.1492 - val_Accuracy: 0.5000\n",
            "Epoch 10/50\n",
            "12/12 [==============================] - 46s 4s/step - loss: 0.9049 - Accuracy: 0.6381 - val_loss: 0.9838 - val_Accuracy: 0.5385\n",
            "Epoch 11/50\n",
            "12/12 [==============================] - 45s 4s/step - loss: 0.8636 - Accuracy: 0.6408 - val_loss: 0.7367 - val_Accuracy: 0.6923\n",
            "Epoch 12/50\n",
            "12/12 [==============================] - 48s 4s/step - loss: 0.7108 - Accuracy: 0.7024 - val_loss: 0.8354 - val_Accuracy: 0.6538\n",
            "Epoch 13/50\n",
            "12/12 [==============================] - 48s 4s/step - loss: 0.6845 - Accuracy: 0.7507 - val_loss: 0.8605 - val_Accuracy: 0.6154\n",
            "Epoch 14/50\n",
            "12/12 [==============================] - 49s 4s/step - loss: 0.7165 - Accuracy: 0.6917 - val_loss: 0.7158 - val_Accuracy: 0.6538\n",
            "Epoch 15/50\n",
            "12/12 [==============================] - 44s 4s/step - loss: 0.6909 - Accuracy: 0.7292 - val_loss: 0.8783 - val_Accuracy: 0.6923\n",
            "Epoch 16/50\n",
            "12/12 [==============================] - 41s 3s/step - loss: 0.6311 - Accuracy: 0.7748 - val_loss: 0.6453 - val_Accuracy: 0.7692\n",
            "Epoch 17/50\n",
            "12/12 [==============================] - 47s 4s/step - loss: 0.5348 - Accuracy: 0.7962 - val_loss: 0.4522 - val_Accuracy: 0.7308\n",
            "Epoch 18/50\n",
            "12/12 [==============================] - 44s 4s/step - loss: 0.4137 - Accuracy: 0.8579 - val_loss: 0.5280 - val_Accuracy: 0.6923\n",
            "Epoch 19/50\n",
            "12/12 [==============================] - 42s 4s/step - loss: 0.3855 - Accuracy: 0.8499 - val_loss: 0.7154 - val_Accuracy: 0.7692\n",
            "Epoch 20/50\n",
            "12/12 [==============================] - 43s 4s/step - loss: 0.3783 - Accuracy: 0.8525 - val_loss: 0.6807 - val_Accuracy: 0.6538\n",
            "Epoch 21/50\n",
            "12/12 [==============================] - 39s 3s/step - loss: 0.4563 - Accuracy: 0.8338 - val_loss: 0.5455 - val_Accuracy: 0.7692\n",
            "Epoch 22/50\n",
            "12/12 [==============================] - 36s 3s/step - loss: 0.3125 - Accuracy: 0.8820 - val_loss: 0.5318 - val_Accuracy: 0.7692\n",
            "Epoch 23/50\n",
            "12/12 [==============================] - 45s 4s/step - loss: 0.3721 - Accuracy: 0.8740 - val_loss: 0.7539 - val_Accuracy: 0.6538\n",
            "Epoch 24/50\n",
            "12/12 [==============================] - 34s 3s/step - loss: 0.4188 - Accuracy: 0.8391 - val_loss: 0.4803 - val_Accuracy: 0.8077\n",
            "Epoch 25/50\n",
            "12/12 [==============================] - 39s 3s/step - loss: 0.4563 - Accuracy: 0.8177 - val_loss: 0.6332 - val_Accuracy: 0.8077\n",
            "Epoch 26/50\n",
            "12/12 [==============================] - 37s 3s/step - loss: 0.2825 - Accuracy: 0.9062 - val_loss: 1.0249 - val_Accuracy: 0.7308\n",
            "Epoch 27/50\n",
            "12/12 [==============================] - 46s 4s/step - loss: 0.2756 - Accuracy: 0.9142 - val_loss: 0.4446 - val_Accuracy: 0.8077\n",
            "Epoch 28/50\n",
            "12/12 [==============================] - 38s 3s/step - loss: 0.2516 - Accuracy: 0.9196 - val_loss: 0.9499 - val_Accuracy: 0.7692\n",
            "Epoch 29/50\n",
            "12/12 [==============================] - 38s 3s/step - loss: 0.2853 - Accuracy: 0.9008 - val_loss: 0.4975 - val_Accuracy: 0.7692\n",
            "Epoch 30/50\n",
            "12/12 [==============================] - 37s 3s/step - loss: 0.2672 - Accuracy: 0.9062 - val_loss: 0.4607 - val_Accuracy: 0.7308\n",
            "Epoch 31/50\n",
            "12/12 [==============================] - 39s 3s/step - loss: 0.1718 - Accuracy: 0.9437 - val_loss: 0.4935 - val_Accuracy: 0.8077\n",
            "Epoch 32/50\n",
            "12/12 [==============================] - 35s 3s/step - loss: 0.1670 - Accuracy: 0.9517 - val_loss: 0.9488 - val_Accuracy: 0.8077\n",
            "Epoch 33/50\n",
            "12/12 [==============================] - 39s 3s/step - loss: 0.1590 - Accuracy: 0.9357 - val_loss: 0.8235 - val_Accuracy: 0.8077\n",
            "Epoch 34/50\n",
            "12/12 [==============================] - 39s 3s/step - loss: 0.1546 - Accuracy: 0.9544 - val_loss: 0.5769 - val_Accuracy: 0.8077\n",
            "Epoch 35/50\n",
            "12/12 [==============================] - 42s 3s/step - loss: 0.1505 - Accuracy: 0.9410 - val_loss: 0.6088 - val_Accuracy: 0.7692\n",
            "Epoch 36/50\n",
            "12/12 [==============================] - 41s 3s/step - loss: 0.2144 - Accuracy: 0.9196 - val_loss: 0.8710 - val_Accuracy: 0.6154\n",
            "Epoch 37/50\n",
            "12/12 [==============================] - 36s 3s/step - loss: 0.2391 - Accuracy: 0.9088 - val_loss: 0.3991 - val_Accuracy: 0.8462\n",
            "Epoch 38/50\n",
            "12/12 [==============================] - 32s 3s/step - loss: 0.1650 - Accuracy: 0.9357 - val_loss: 0.5576 - val_Accuracy: 0.7692\n",
            "Epoch 39/50\n",
            "12/12 [==============================] - 36s 3s/step - loss: 0.2043 - Accuracy: 0.9169 - val_loss: 0.6455 - val_Accuracy: 0.8077\n",
            "Epoch 40/50\n",
            "12/12 [==============================] - 40s 3s/step - loss: 0.2131 - Accuracy: 0.9223 - val_loss: 0.6302 - val_Accuracy: 0.8077\n",
            "Epoch 41/50\n",
            "12/12 [==============================] - 36s 3s/step - loss: 0.1249 - Accuracy: 0.9678 - val_loss: 0.6789 - val_Accuracy: 0.7692\n",
            "Epoch 42/50\n",
            "12/12 [==============================] - 43s 4s/step - loss: 0.1590 - Accuracy: 0.9437 - val_loss: 0.7122 - val_Accuracy: 0.8077\n",
            "Epoch 43/50\n",
            "12/12 [==============================] - 35s 3s/step - loss: 0.1008 - Accuracy: 0.9651 - val_loss: 0.5872 - val_Accuracy: 0.7692\n",
            "Epoch 44/50\n",
            "12/12 [==============================] - 33s 3s/step - loss: 0.1514 - Accuracy: 0.9383 - val_loss: 0.5992 - val_Accuracy: 0.8462\n",
            "Epoch 45/50\n",
            "12/12 [==============================] - 35s 3s/step - loss: 0.1292 - Accuracy: 0.9678 - val_loss: 0.5075 - val_Accuracy: 0.7308\n",
            "Epoch 46/50\n",
            "12/12 [==============================] - 36s 3s/step - loss: 0.0934 - Accuracy: 0.9759 - val_loss: 0.6084 - val_Accuracy: 0.8077\n",
            "Epoch 47/50\n",
            "12/12 [==============================] - 35s 3s/step - loss: 0.0741 - Accuracy: 0.9705 - val_loss: 0.5509 - val_Accuracy: 0.8077\n",
            "Epoch 48/50\n",
            "12/12 [==============================] - 37s 3s/step - loss: 0.0924 - Accuracy: 0.9732 - val_loss: 0.5718 - val_Accuracy: 0.8077\n",
            "Epoch 49/50\n",
            "12/12 [==============================] - 37s 3s/step - loss: 0.0902 - Accuracy: 0.9651 - val_loss: 0.5452 - val_Accuracy: 0.8077\n",
            "Epoch 50/50\n",
            "12/12 [==============================] - 38s 3s/step - loss: 0.0716 - Accuracy: 0.9759 - val_loss: 0.7656 - val_Accuracy: 0.8462\n"
          ]
        }
      ]
    },
    {
      "cell_type": "code",
      "execution_count": null,
      "metadata": {
        "id": "ssgkb9Y8JkFq",
        "colab": {
          "base_uri": "https://localhost:8080/"
        },
        "outputId": "6cd2ae58-e497-4aa7-8cad-d3d833d21336"
      },
      "outputs": [
        {
          "output_type": "stream",
          "name": "stderr",
          "text": [
            "<ipython-input-12-d79997580d80>:3: UserWarning: `Model.predict_generator` is deprecated and will be removed in a future version. Please use `Model.predict`, which supports generators.\n",
            "  predict = model.predict_generator(X_test)\n"
          ]
        },
        {
          "output_type": "stream",
          "name": "stdout",
          "text": [
            "{0: 1.0, 1: 0.92, 2: 1.0, 3: 0.927536231884058, 4: 1.0, 5: 1.0, 6: 1.0, 7: 1.0, 8: 1.0, 9: 1.0, 10: 1.0, 11: 1.0}\n"
          ]
        }
      ],
      "source": [
        "from sklearn.metrics import roc_auc_score\n",
        "from sklearn.metrics import roc_curve, auc\n",
        "predict = model.predict_generator(X_test)\n",
        "#roc_auc_score(y_test, predict, multi_class='ovr')\n",
        "fpr = dict()\n",
        "tpr = dict()\n",
        "roc_auc = dict()\n",
        "for i in range(12):  #num_Class\n",
        "    fpr[i], tpr[i], _ = roc_curve(y_test[:, i], predict[:, i])\n",
        "    roc_auc[i] = auc(fpr[i], tpr[i])\n",
        "print(roc_auc)"
      ]
    },
    {
      "cell_type": "code",
      "source": [
        "model.evaluate(X_test,y_test)"
      ],
      "metadata": {
        "colab": {
          "base_uri": "https://localhost:8080/"
        },
        "id": "qH-YtjYfDNjf",
        "outputId": "a35eb466-c7b7-4c52-d1a4-60a89b1a5425"
      },
      "execution_count": null,
      "outputs": [
        {
          "output_type": "stream",
          "name": "stdout",
          "text": [
            "1/1 [==============================] - 0s 218ms/step - loss: 0.7656 - Accuracy: 0.8462\n"
          ]
        },
        {
          "output_type": "execute_result",
          "data": {
            "text/plain": [
              "[0.7656113505363464, 0.8461538553237915]"
            ]
          },
          "metadata": {},
          "execution_count": 13
        }
      ]
    },
    {
      "cell_type": "code",
      "source": [
        "plt.plot(model_history.history['loss'])\n",
        "plt.plot(model_history.history['val_loss'])\n",
        "plt.title('model loss')\n",
        "plt.ylabel('loss')\n",
        "plt.xlabel('epoch')\n",
        "plt.legend(['train', 'validation'], loc='upper left')\n",
        "plt.show()"
      ],
      "metadata": {
        "colab": {
          "base_uri": "https://localhost:8080/",
          "height": 472
        },
        "id": "b_y2EaGlVkHc",
        "outputId": "2e94789e-a3ea-4542-8994-28aca659a952"
      },
      "execution_count": null,
      "outputs": [
        {
          "output_type": "display_data",
          "data": {
            "text/plain": [
              "<Figure size 640x480 with 1 Axes>"
            ],
            "image/png": "[encoded data removed]"
          },
          "metadata": {}
        }
      ]
    },
    {
      "cell_type": "code",
      "source": [
        "model.save(\"/content/drive/MyDrive/SET Project 2/my_model3\")"
      ],
      "metadata": {
        "colab": {
          "base_uri": "https://localhost:8080/"
        },
        "id": "pgG-7lU6L3nW",
        "outputId": "c2f40abe-e6e3-4d36-b279-097980a3130b"
      },
      "execution_count": null,
      "outputs": [
        {
          "output_type": "stream",
          "name": "stderr",
          "text": [
            "WARNING:absl:Found untraced functions such as _jit_compiled_convolution_op, _jit_compiled_convolution_op, _jit_compiled_convolution_op, _jit_compiled_convolution_op, _jit_compiled_convolution_op while saving (showing 5 of 16). These functions will not be directly callable after loading.\n"
          ]
        }
      ]
    },
    {
      "cell_type": "code",
      "execution_count": null,
      "metadata": {
        "id": "BfhejIVdk2Lg"
      },
      "outputs": [],
      "source": [
        "import matplotlib.pyplot as plt\n",
        "acc = model_history.history['accuracy']\n",
        "val_acc = model_history.history['val_accuracy']\n",
        "loss = model_history.history['loss']\n",
        "val_loss = model_history.history['val_loss']\n",
        "\n",
        "epochs = range(len(acc))\n",
        "\n",
        "plt.plot(epochs, acc, 'r', label='Training accuracy')\n",
        "plt.plot(epochs, val_acc, 'b', label='Validation accuracy')\n",
        "plt.title('Training and validation accuracy')\n",
        "plt.legend()\n",
        "\n",
        "plt.figure()\n",
        "\n",
        "plt.plot(epochs, loss, 'r', label='Training Loss')\n",
        "plt.plot(epochs, val_loss, 'b', label='Validation Loss')\n",
        "plt.title('Training and validation loss')\n",
        "plt.legend()\n",
        "\n",
        "plt.show()"
      ]
    },
    {
      "cell_type": "code",
      "execution_count": null,
      "metadata": {
        "id": "pwc3CYJ4O6Gt"
      },
      "outputs": [],
      "source": [
        "import numpy as np\n",
        "import matplotlib.pyplot as plt\n",
        "plt.rcParams[\"font.family\"] = \"Times New Roman\"\n",
        "plt.figure()\n",
        "lw = 2\n",
        "plt.plot(\n",
        "    fpr[1],#Class_ID\n",
        "    tpr[1],#Class_ID\n",
        "    color=\"black\",\n",
        "    lw=lw,\n",
        "    label=\"InceptionV3Net (area = %0.2f)\" % roc_auc1[0],#Class_ID\n",
        ")\n",
        "plt.plot([0, 1], [0, 1], color=\"navy\", lw=lw, linestyle=\"--\")\n",
        "plt.xlim([0.0, 1.0])\n",
        "plt.ylim([0.0, 1.05])\n",
        "plt.xlabel(\"False Positive Rate\")\n",
        "plt.ylabel(\"True Positive Rate\")\n",
        "plt.title(\"Receiver operating characteristic (Gray_Blight)\")\n",
        "plt.legend(loc=\"lower right\")\n",
        "plt.show()\n",
        "plt.savefig('Gray_Blight.png')"
      ]
    }
  ],
  "metadata": {
    "accelerator": "GPU",
    "colab": {
      "provenance": []
    },
    "kernelspec": {
      "display_name": "Python 3 (ipykernel)",
      "language": "python",
      "name": "python3"
    },
    "language_info": {
      "codemirror_mode": {
        "name": "ipython",
        "version": 3
      },
      "file_extension": ".py",
      "mimetype": "text/x-python",
      "name": "python",
      "nbconvert_exporter": "python",
      "pygments_lexer": "ipython3",
      "version": "3.8.10"
    }
  },
  "nbformat": 4,
  "nbformat_minor": 0
}